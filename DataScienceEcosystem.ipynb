{
 "cells": [
  {
   "cell_type": "markdown",
   "id": "bcdc7e3b-4ec9-4c1f-ac80-a4d99e410e0d",
   "metadata": {},
   "source": [
    "<h1> Data Science Tools and Ecosystem"
   ]
  },
  {
   "cell_type": "markdown",
   "id": "ec3de2a0-3d39-4b4e-a63e-c331a9109e6d",
   "metadata": {},
   "source": [
    "In this notebook, Data Science Tools and Ecosystem are summarized."
   ]
  },
  {
   "cell_type": "markdown",
   "id": "d8588901-207d-49c6-ad71-a67b22deb9de",
   "metadata": {},
   "source": [
    "**Objectives:**\n",
    "\n",
    "* List popular languages for Data Science\n",
    "* List  Data Science Tools\n",
    "* List some of the commonly used libraries used by Data Scientists\n",
    "* Create a a simple arithmetic expression to mutiply then add integers\n",
    "* Create a function to transform minutes to hours\n"
   ]
  },
  {
   "cell_type": "markdown",
   "id": "84a4b08a-552f-42b9-b4f8-2533cbcb5c1e",
   "metadata": {},
   "source": [
    "<dl>\n",
    "    <dt>Some of the popular languages that Data Scientists use are:\n",
    "    <dd>1 Python\n",
    "    <dd>2 R\n",
    "    <dd>3 SQL\n",
    "    <dd>4 Java\n",
    "    <dd>5 C++\n",
    "    <dd>6 Julia\n",
    "    <dd>7 Visual Basic\n",
    "    <dd>8 Ruby\n",
    "    <dd>9 Scala\n",
    "    <dd>10 JavaScript"
   ]
  },
  {
   "cell_type": "markdown",
   "id": "2178c29e-b349-4d70-8ea4-b3a9c76726a9",
   "metadata": {},
   "source": [
    "<dl> Some of the commonly used libraries used by Data Scientists include:\n",
    "    <dd>1 Numpy\n",
    "    <dd>2 Mathplot\n",
    "    <dd>3 Tensor Flow"
   ]
  },
  {
   "cell_type": "markdown",
   "id": "b1cfec6f-75f2-4a63-9fbd-d41b22d685d3",
   "metadata": {},
   "source": [
    "| Data Science Tools |\n",
    "| --- |\n",
    "| Pandas |\n",
    "| Scrapy |\n",
    "| Spark |"
   ]
  },
  {
   "cell_type": "markdown",
   "id": "d8bbe6c9-1f88-44fb-ba70-50bbb176bc19",
   "metadata": {},
   "source": [
    "<h3> Below are a few examples of evaluating arithmetic expressions in Python"
   ]
  },
  {
   "cell_type": "code",
   "execution_count": 1,
   "id": "5ff7c611-ded9-453f-93a0-95fd2467b190",
   "metadata": {
    "tags": []
   },
   "outputs": [
    {
     "data": {
      "text/plain": [
       "17"
      ]
     },
     "execution_count": 1,
     "metadata": {},
     "output_type": "execute_result"
    }
   ],
   "source": [
    "#This a simple arithmetic expression to mutiply then add integers\n",
    "(3*4)+5"
   ]
  },
  {
   "cell_type": "code",
   "execution_count": 2,
   "id": "e9e36cf3-a02c-481d-9797-4553305b9326",
   "metadata": {
    "tags": []
   },
   "outputs": [
    {
     "name": "stdout",
     "output_type": "stream",
     "text": [
      "This will convert 200 minutes to hours by diving by 60 as: 3.3333333333333335 hours\n"
     ]
    }
   ],
   "source": [
    "#This will convert 200 minutes to hours by diving by 60\n",
    "\n",
    "def min_to_hour(x): \n",
    "    print(\"This will convert\", x, \"minutes to hours by diving by 60 as:\", x/60, \"hours\")\n",
    "\n",
    "min_to_hour(200)"
   ]
  },
  {
   "cell_type": "markdown",
   "id": "d0b2c511-bfe9-4458-88a7-0fee77959dd2",
   "metadata": {},
   "source": [
    "<h2> Author\n",
    "    \n",
    "Ricardo Candás Vega"
   ]
  },
  {
   "cell_type": "code",
   "execution_count": null,
   "id": "792dd994-398d-42f6-9dea-7ad1717ec1f7",
   "metadata": {},
   "outputs": [],
   "source": []
  }
 ],
 "metadata": {
  "kernelspec": {
   "display_name": "Python",
   "language": "python",
   "name": "conda-env-python-py"
  },
  "language_info": {
   "codemirror_mode": {
    "name": "ipython",
    "version": 3
   },
   "file_extension": ".py",
   "mimetype": "text/x-python",
   "name": "python",
   "nbconvert_exporter": "python",
   "pygments_lexer": "ipython3",
   "version": "3.7.12"
  }
 },
 "nbformat": 4,
 "nbformat_minor": 5
}
